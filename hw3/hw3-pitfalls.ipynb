{
 "cells": [
  {
   "cell_type": "markdown",
   "metadata": {},
   "source": [
    "# HW3 Pitfalls"
   ]
  },
  {
   "cell_type": "markdown",
   "metadata": {},
   "source": [
    "suggested order for tests:\n",
    "- test_mean_squared_error\n",
    "- test_generate_regression_data\n",
    "- test_polynomial_regression\n",
    "- test_perceptron\n",
    "- test_transform_data\n",
    "\n",
    "as always, be sure to check out documentation for useful numpy commands:<br>\n",
    "https://numpy.org/doc/stable/<br>\n",
    "https://matplotlib.org/api/_as_gen/matplotlib.pyplot.html#module-matplotlib.pyplot"
   ]
  },
  {
   "cell_type": "markdown",
   "metadata": {},
   "source": [
    "## matplotlib Tips"
   ]
  },
  {
   "cell_type": "code",
   "execution_count": 6,
   "metadata": {},
   "outputs": [
    {
     "data": {
      "image/png": "[encoded data removed]",
      "text/plain": [
       "<Figure size 432x288 with 1 Axes>"
      ]
     },
     "metadata": {
      "needs_background": "light"
     },
     "output_type": "display_data"
    }
   ],
   "source": [
    "import matplotlib.pyplot as plt\n",
    "import numpy as np\n",
    "\n",
    "# For this homework, you will need to get comfortable with matplotlib for specific functions, as well as answering\n",
    "# free response questions\n",
    "x = np.linspace(1, 5, 5)\n",
    "y = np.random.rand(5)\n",
    "\n",
    "# To create a figure:\n",
    "fig = plt.figure()\n",
    "\n",
    "# Title and axis\n",
    "plt.title('your title')\n",
    "plt.xlabel('x-label')\n",
    "plt.ylabel('y-label')\n",
    "\n",
    "# To plot you can use a variety of functions, such as .plot, .scatter, etc.\n",
    "plt.plot(x, y)\n",
    "plt.scatter(x, y)\n",
    "\n",
    "# You can also add a third argument to change the shape/symbol of the points such as\n",
    "plt.plot(x, y, 'kx') # this will plot 'x' marks instead of dots\n",
    "\n",
    "# To save a figure:\n",
    "fig.savefig('name-of-fig')"
   ]
  },
  {
   "cell_type": "markdown",
   "metadata": {},
   "source": [
    "## Generating Regression Data"
   ]
  },
  {
   "cell_type": "code",
   "execution_count": 15,
   "metadata": {},
   "outputs": [
    {
     "name": "stdout",
     "output_type": "stream",
     "text": [
      "   3     2\n",
      "1 x + 2 x + 3 x + 4\n"
     ]
    }
   ],
   "source": [
    "x = np.linspace(-5, 5, 20)\n",
    "\n",
    "# numpy has a polynomial class that you might find useful, just input the coefficients you want\n",
    "# class documentation can be found here: https://numpy.org/doc/stable/reference/generated/numpy.poly1d.html\n",
    "coefficients = [1, 2, 3, 4]\n",
    "p = np.poly1d(coefficients)\n",
    "\n",
    "# keep note of the order of the coefficients\n",
    "print(p)"
   ]
  },
  {
   "cell_type": "code",
   "execution_count": 16,
   "metadata": {},
   "outputs": [
    {
     "data": {
      "text/plain": [
       "<matplotlib.collections.PathCollection at 0x20c876d2fa0>"
      ]
     },
     "execution_count": 16,
     "metadata": {},
     "output_type": "execute_result"
    },
    {
     "data": {
      "image/png": "[encoded data removed]",
      "text/plain": [
       "<Figure size 432x288 with 1 Axes>"
      ]
     },
     "metadata": {
      "needs_background": "light"
     },
     "output_type": "display_data"
    }
   ],
   "source": [
    "# simply apply the polynomial to the data points to get the data you want\n",
    "y = [p(x_i) for x_i in x]\n",
    "    \n",
    "plt.scatter(x, y)"
   ]
  },
  {
   "cell_type": "markdown",
   "metadata": {},
   "source": [
    "## Polynomial Regression Tips\n",
    "In order to run a polynomial regression, you must calculate weights using linear algebra matrix multiplication.\n",
    "Essentialy, the algorithm is as follows: (https://en.wikipedia.org/wiki/Polynomial_regression)\n",
    "- Create an empty array of size inputs and degree + 1 (you need a _const column)\n",
    "- Iteratre through features\n",
    "    - Matrix a row n will be an array consisting of the input multiplied by the degree looped from 0 to degree (inclusive). The first column will just be a column of 1s\n",
    "- Once your matrix is created, use np.matmul and np.inalg.inv to calculate the coefficients\n",
    "- Store these coefficients as a global variable to be used in the predict funciton"
   ]
  },
  {
   "cell_type": "code",
   "execution_count": 1,
   "metadata": {},
   "outputs": [
    {
     "name": "stdout",
     "output_type": "stream",
     "text": [
      "[0.7390949564246507, 1.425840333392289, 2.9512563800713227, 7.278754472559692]\n"
     ]
    }
   ],
   "source": [
    "import numpy as np\n",
    "# Given a specific test feature, the prediction is :\n",
    "coefficients = np.random.rand(4) # coefficients of a regression of degree 3\n",
    "feature = 2\n",
    "y_hat = [coefficients[i] * (feature ** i) for i in range(len(coefficients))] # where ** means to the power of\n",
    "print(y_hat)"
   ]
  },
  {
   "cell_type": "markdown",
   "metadata": {},
   "source": [
    "## Perceptron Tips\n",
    "Be sure to check out the Linear Discriminants slides on the course website. The pseudocode for the perceptron algorithm can be found on slide 34. Link below.\n",
    "https://nucs349.github.io/lectures/eecs349_linear_discriminants.pdf<br>\n",
    "Essentialy, the algorithm is as follows\n",
    "- initialize random weights vector $w$\n",
    "- iterate through the training data\n",
    "    - if the predicted label for a data point is incorrect\n",
    "        - adjust the weights vector using $w = w + xy$<br>($x$ is the data point vector and $y$ is the label of that data point)\n",
    "- stop when all labels are predicted correctly or maximum number of iterations is reached"
   ]
  },
  {
   "cell_type": "code",
   "execution_count": 24,
   "metadata": {},
   "outputs": [
    {
     "data": {
      "text/plain": [
       "1.2332002432746247"
      ]
     },
     "execution_count": 24,
     "metadata": {},
     "output_type": "execute_result"
    }
   ],
   "source": [
    "# w^T*x is simply the dot product of two vectors w and x, \n",
    "# where x is the features vector with an appended 1 for a bias\n",
    "x = np.concatenate((np.ones(1), np.random.rand(4)))\n",
    "w = np.random.rand(5)\n",
    "np.dot(w, x)"
   ]
  },
  {
   "cell_type": "code",
   "execution_count": 25,
   "metadata": {},
   "outputs": [
    {
     "data": {
      "text/plain": [
       "1.120946614576219"
      ]
     },
     "execution_count": 25,
     "metadata": {},
     "output_type": "execute_result"
    }
   ],
   "source": [
    "# remember that because of the bias in your weights vector, \n",
    "# you want to remove this for predictions calculations\n",
    "predict_this = np.random.rand(4)\n",
    "np.dot(w[1:], predict_this)"
   ]
  }
 ],
 "metadata": {
  "kernelspec": {
   "display_name": "Python 3",
   "language": "python",
   "name": "python3"
  },
  "language_info": {
   "codemirror_mode": {
    "name": "ipython",
    "version": 3
   },
   "file_extension": ".py",
   "mimetype": "text/x-python",
   "name": "python",
   "nbconvert_exporter": "python",
   "pygments_lexer": "ipython3",
   "version": "3.8.2"
  }
 },
 "nbformat": 4,
 "nbformat_minor": 4
}
