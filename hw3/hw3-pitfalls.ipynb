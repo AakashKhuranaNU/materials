{
 "cells": [
  {
   "cell_type": "markdown",
   "metadata": {},
   "source": [
    "# HW3 Pitfalls"
   ]
  },
  {
   "cell_type": "code",
   "execution_count": 1,
   "metadata": {},
   "outputs": [],
   "source": [
    "import matplotlib.pyplot as plt\n",
    "import numpy as np\n",
    "\n",
    "# For this homework, you will need to get comfortable with matplotlib for specific functions, as well as answering\n",
    "# free response questions\n",
    "\n",
    "# To create a figure:\n",
    "fig = plt.figure()\n",
    "\n",
    "# Title and axis\n",
    "plt.title('your title')\n",
    "plt.xlabel('x-label')\n",
    "plt.ylabel('y-label')\n",
    "\n",
    "# To plot you can use a variety of functions, such as .plot, .scatter, etc.\n",
    "plt.plot(x, y)\n",
    "plt.scatter(x, y)\n",
    "\n",
    "# You can also add a third argument to change the shape/symbol of the points such as\n",
    "plt.plot(x, y, 'kx') # this will plot 'x' marks instead of dots\n",
    "\n",
    "# To save a figure:\n",
    "fig.savefig('name-of-fig')"
   ]
  },
  {
   "cell_type": "code",
   "execution_count": 2,
   "metadata": {},
   "outputs": [],
   "source": [
    "# linear algrebra matrix multiplication tips"
   ]
  },
  {
   "cell_type": "code",
   "execution_count": 3,
   "metadata": {},
   "outputs": [],
   "source": [
    "# perceptron tips"
   ]
  },
  {
   "cell_type": "code",
   "execution_count": null,
   "metadata": {},
   "outputs": [],
   "source": []
  }
 ],
 "metadata": {
  "kernelspec": {
   "display_name": "Python 3",
   "language": "python",
   "name": "python3"
  },
  "language_info": {
   "codemirror_mode": {
    "name": "ipython",
    "version": 3
   },
   "file_extension": ".py",
   "mimetype": "text/x-python",
   "name": "python",
   "nbconvert_exporter": "python",
   "pygments_lexer": "ipython3",
   "version": "3.7.3"
  }
 },
 "nbformat": 4,
 "nbformat_minor": 4
}
